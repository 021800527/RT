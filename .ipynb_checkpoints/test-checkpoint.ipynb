{
 "cells": [
  {
   "cell_type": "code",
   "execution_count": 2,
   "id": "initial_id",
   "metadata": {
    "ExecuteTime": {
     "end_time": "2025-10-11T16:28:04.523737Z",
     "start_time": "2025-10-11T16:27:52.934537Z"
    }
   },
   "outputs": [
    {
     "ename": "NameError",
     "evalue": "name 'Fa' is not defined",
     "output_type": "error",
     "traceback": [
      "\u001b[31m---------------------------------------------------------------------------\u001b[39m",
      "\u001b[31mNameError\u001b[39m                                 Traceback (most recent call last)",
      "\u001b[36mCell\u001b[39m\u001b[36m \u001b[39m\u001b[32mIn[2]\u001b[39m\u001b[32m, line 6\u001b[39m\n\u001b[32m      3\u001b[39m \u001b[38;5;28;01mimport\u001b[39;00m\u001b[38;5;250m \u001b[39m\u001b[34;01msionna\u001b[39;00m\u001b[34;01m.\u001b[39;00m\u001b[34;01mrt\u001b[39;00m\u001b[38;5;250m \u001b[39m\u001b[38;5;28;01mas\u001b[39;00m\u001b[38;5;250m \u001b[39m\u001b[34;01mrt\u001b[39;00m\n\u001b[32m      5\u001b[39m \u001b[38;5;66;03m# 设置为False以在Jupyter中使用预览（显示无线电地图）\u001b[39;00m\n\u001b[32m----> \u001b[39m\u001b[32m6\u001b[39m no_preview = \u001b[43mFa\u001b[49m  \u001b[38;5;66;03m# 重要：改为False（不是True）\u001b[39;00m\n\u001b[32m      8\u001b[39m \u001b[38;5;28;01mdef\u001b[39;00m\u001b[38;5;250m \u001b[39m\u001b[34mconfig_scene\u001b[39m(num_rows, num_cols):\n\u001b[32m      9\u001b[39m \u001b[38;5;250m    \u001b[39m\u001b[33;03m\"\"\"Load and configure a scene (NO RADIO MAP COMPUTATION HERE)\"\"\"\u001b[39;00m\n",
      "\u001b[31mNameError\u001b[39m: name 'Fa' is not defined"
     ]
    }
   ],
   "source": [
    "import numpy as np\n",
    "import matplotlib.pyplot as plt\n",
    "import sionna.rt as rt\n",
    "\n",
    "# 设置为False以在Jupyter中使用预览（显示无线电地图）\n",
    "no_preview = False  # 重要：改为False（不是True）\n",
    "\n",
    "def config_scene(num_rows, num_cols):\n",
    "    \"\"\"Load and configure a scene (NO RADIO MAP COMPUTATION HERE)\"\"\"\n",
    "    scene = rt.load_scene(\"Hongkong.xml\")\n",
    "    scene.bandwidth = 100e6\n",
    "\n",
    "    scene.tx_array = rt.PlanarArray(\n",
    "        num_rows=num_rows,\n",
    "        num_cols=num_cols,\n",
    "        pattern=\"tr38901\",\n",
    "        polarization=\"V\"\n",
    "    )\n",
    "\n",
    "    scene.rx_array = rt.PlanarArray(\n",
    "        num_rows=1,\n",
    "        num_cols=1,\n",
    "        pattern=\"iso\",\n",
    "        polarization=\"V\"\n",
    "    )\n",
    "\n",
    "    positions = np.array(\n",
    "        [[-150.3, 21.63, 42.5],\n",
    "         [-125.1, 9.58, 42.5],\n",
    "         [-104.5, 54.94, 42.5],\n",
    "         [-128.6, 66.73, 42.5],\n",
    "         [172.1, 103.7, 24],\n",
    "         [232.8, -95.5, 17],\n",
    "         [80.1, 193.8, 21]]\n",
    "    )\n",
    "    look_ats = np.array(\n",
    "        [[-216, -21, 0],\n",
    "         [-90, -80, 0],\n",
    "         [-16.5, 75.8, 0],\n",
    "         [-164, 153.7, 0],\n",
    "         [247, 92, 0],\n",
    "         [211, -180, 0],\n",
    "         [126.3, 194.7, 0]]\n",
    "    )\n",
    "    power_dbms = [23] * 7\n",
    "\n",
    "    for i, position in enumerate(positions):\n",
    "        scene.add(rt.Transmitter(\n",
    "            name=f'tx{i}',\n",
    "            position=position,\n",
    "            look_at=look_ats[i],\n",
    "            power_dbm=power_dbms[i]\n",
    "        ))\n",
    "\n",
    "    return scene\n",
    "\n",
    "num_rows = 8\n",
    "num_cols = 2\n",
    "scene_etoile = config_scene(num_rows, num_cols)\n",
    "\n",
    "rm_solver = rt.RadioMapSolver()\n",
    "rm_etoile = rm_solver(\n",
    "    scene_etoile,\n",
    "    max_depth=5,\n",
    "    samples_per_tx=10 ** 7,\n",
    "    cell_size=(1, 1)\n",
    ")\n",
    "\n",
    "if no_preview:\n",
    "    cam = rt.Camera(\n",
    "        position=[0, 0, 1000],\n",
    "        orientation=np.array([0, np.pi / 2, -np.pi / 2])\n",
    "    )\n",
    "    scene_etoile.render(\n",
    "        camera=cam,\n",
    "        radio_map=rm_etoile,\n",
    "        rm_metric=\"sinr\",\n",
    "        rm_vmin=-10,\n",
    "        rm_vmax=60,\n",
    "    )\n",
    "else:\n",
    "    # 关键：在Jupyter中，这个preview()会显示无线电地图\n",
    "    scene_etoile.preview(\n",
    "        radio_map=rm_etoile,\n",
    "        rm_metric=\"sinr\",\n",
    "        rm_vmin=-10,\n",
    "        rm_vmax=60\n",
    "    )"
   ]
  },
  {
   "cell_type": "code",
   "execution_count": null,
   "id": "e0e775fa-122e-4745-8a70-05f3d35db16e",
   "metadata": {},
   "outputs": [],
   "source": []
  }
 ],
 "metadata": {
  "kernelspec": {
   "display_name": "Python 3 (ipykernel)",
   "language": "python",
   "name": "python3"
  },
  "language_info": {
   "codemirror_mode": {
    "name": "ipython",
    "version": 3
   },
   "file_extension": ".py",
   "mimetype": "text/x-python",
   "name": "python",
   "nbconvert_exporter": "python",
   "pygments_lexer": "ipython3",
   "version": "3.12.2"
  }
 },
 "nbformat": 4,
 "nbformat_minor": 5
}
